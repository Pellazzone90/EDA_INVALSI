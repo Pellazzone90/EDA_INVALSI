{
 "cells": [
  {
   "cell_type": "markdown",
   "id": "9acaac4a",
   "metadata": {},
   "source": [
    "# Parte 5:"
   ]
  },
  {
   "cell_type": "markdown",
   "id": "089e78a6",
   "metadata": {},
   "source": [
    "____________"
   ]
  },
  {
   "cell_type": "markdown",
   "id": "c9e3ec48",
   "metadata": {},
   "source": [
    "##  Data Visualization tramite grafici Choropleth Map:"
   ]
  },
  {
   "cell_type": "markdown",
   "id": "6822ea3c",
   "metadata": {},
   "source": [
    "Per concludere la nostra analisi utilizzeremo un file *geojson* (vedi [qui](https://it.wikipedia.org/wiki/GeoJSON)) per elaborare delle mappe in cui, tramite una scala di colori, visualizzeremo la distribuzione per provincia dei *top* studenti.\\\n",
    "Useremo quindi come metrica la percentuale di studenti che hanno totalizzato un punteggio maggiore del 110% della media nazionalele.\\\n",
    "Filtreremo i dataframe delle materie solo per l'anno 2021-22 e solo per le prove svoltesi in V liceo.\\\n",
    "Identificheremo quindi la provincia \"migliore\" e la provincia \"peggiore\", tra i *top studenti* per la materia in esame.\\\n",
    "Aggiungeremo anche una visualizzazione della percentuale di partecipazione di tutti gli studenti per ogni provincia"
   ]
  },
  {
   "cell_type": "markdown",
   "id": "22c359f6",
   "metadata": {},
   "source": [
    "##### Import librerie e caricamento dati:"
   ]
  },
  {
   "cell_type": "code",
   "execution_count": 1,
   "id": "0e5a8920",
   "metadata": {},
   "outputs": [],
   "source": [
    "from pathlib import Path\n",
    "import pandas as pd\n",
    "import plotly.express as px\n",
    "import pickle"
   ]
  },
  {
   "cell_type": "markdown",
   "id": "86e382d4",
   "metadata": {},
   "source": [
    "Per motivi di gestione della grandezza del file notebook non *printiamo* i grafici ma li salviamo esportandoli come *.html*\\\n",
    "Definimiamo la funzione che crea la cartella per contenerli e li salva:"
   ]
  },
  {
   "cell_type": "code",
   "execution_count": 2,
   "id": "c6526481",
   "metadata": {},
   "outputs": [],
   "source": [
    "def export_html(fig, full_path: Path) -> None:\n",
    "    outdir = full_path.parent\n",
    "    if not Path.is_dir(outdir):\n",
    "        Path.mkdir(outdir)\n",
    "    fig.write_html(full_path)\n",
    "    #fig.write_image(full_path)"
   ]
  },
  {
   "cell_type": "code",
   "execution_count": 3,
   "id": "6b7da4da",
   "metadata": {},
   "outputs": [],
   "source": [
    "DATA_PATH = \"../data/in/\"\n",
    "DATA_PATH_PLOTS = \"../data/plots/\""
   ]
  },
  {
   "cell_type": "markdown",
   "id": "fac7f7a5",
   "metadata": {},
   "source": [
    "Tramite *pickle* apriamo il file che abbiamo salvato alla fine della **Parte 3&4** che contiene i dataframe già filtrati per materia-anno-grado da utilizzare per la *data-visualization*:"
   ]
  },
  {
   "cell_type": "code",
   "execution_count": 4,
   "id": "0747db18",
   "metadata": {},
   "outputs": [],
   "source": [
    "with open(Path(DATA_PATH, \"dizionario_df_materie.pickle\"), \"rb\") as fp:\n",
    "    dizionario_df_materie = pickle.load(fp)"
   ]
  },
  {
   "cell_type": "code",
   "execution_count": 5,
   "id": "3e9548ce",
   "metadata": {},
   "outputs": [],
   "source": [
    "df_geo_mat_21 = dizionario_df_materie[\"df_geo_mat_21\"]\n",
    "df_geo_ita_21 = dizionario_df_materie[\"df_geo_ita_21\"]\n",
    "df_geo_ing_21 = dizionario_df_materie[\"df_geo_ing_21\"]"
   ]
  },
  {
   "cell_type": "markdown",
   "id": "5ce12bf2",
   "metadata": {},
   "source": [
    "Creiamo una lista dei dataframe e una delle materie per utilizzarle come iterabili al fine della visualizzazione:"
   ]
  },
  {
   "cell_type": "code",
   "execution_count": 6,
   "id": "334c46ad",
   "metadata": {},
   "outputs": [],
   "source": [
    "lista_df = [df_geo_mat_21, df_geo_ita_21, df_geo_ing_21]\n",
    "materie = [\"Matematica\", \"Italiano\", \"Inglese\"]"
   ]
  },
  {
   "cell_type": "code",
   "execution_count": 7,
   "id": "cc47a6cf",
   "metadata": {},
   "outputs": [],
   "source": [
    "import json\n",
    "GEOJSON_PATH = Path(DATA_PATH, \"province.geojson\")"
   ]
  },
  {
   "cell_type": "code",
   "execution_count": 8,
   "id": "71065200",
   "metadata": {},
   "outputs": [],
   "source": [
    "with open(GEOJSON_PATH, 'r') as fp:\n",
    "    province_geojson = json.load(fp)"
   ]
  },
  {
   "cell_type": "code",
   "execution_count": 9,
   "id": "00c1e22b",
   "metadata": {},
   "outputs": [],
   "source": [
    "#PER CREARE IL CAMPO ID CHE CONTIENE LA SIGLA DELLA PROVINCIA DA USARE COME CHIAVE NEL GEOJSON:\n",
    "for feature_ in province_geojson['features']:\n",
    "    feature_['id'] = feature_['properties']['SIGLA']"
   ]
  },
  {
   "cell_type": "code",
   "execution_count": 10,
   "id": "f0fa4e0a",
   "metadata": {},
   "outputs": [],
   "source": [
    "for i in range(len(lista_df)):\n",
    "    if i != 2:\n",
    "        minore=lista_df[i][lista_df[i][\"maggiore_110\"].eq(lista_df[i][\"maggiore_110\"].min())][\"nome_provincia\"]\n",
    "        maggiore=lista_df[i][lista_df[i][\"maggiore_110\"].eq(lista_df[i][\"maggiore_110\"].max())][\"nome_provincia\"]\n",
    "        fig = px.choropleth_mapbox(\n",
    "            data_frame=lista_df[i],\n",
    "            geojson=province_geojson,\n",
    "            locations='sigla_provincia',\n",
    "            color=\"maggiore_110\",\n",
    "            color_continuous_scale=\"rdbu\",\n",
    "            range_color=(lista_df[i][\"maggiore_110\"].min(), lista_df[i][\"maggiore_110\"].max()),\n",
    "            #hover_data=['tot_sezioni', 'sezioni_corso', 'moda_volume', 'moda_editore'],\n",
    "            mapbox_style=\"carto-positron\",\n",
    "            zoom=4, \n",
    "            center={\"lat\": 41.9, \"lon\": 12.0},\n",
    "            opacity=0.5,\n",
    "            title=\"Percentuali studenti punteggio superiore al 110% della media prove Invalsi {} 5°Liceo 2021:<br><sup>La regione più performante del 2021 è stata {}</sup><br><sup>La regione meno performante del 2021 è stata {}</sup>\".format(materie[i],maggiore.values[0],minore.values[0]),\n",
    "            labels={'maggiore_110':'% Studenti > 110%'}\n",
    "            )\n",
    "        \n",
    "        #fig.show()\n",
    "        #fig.write_image(\"images/fig1.webp\")\n",
    "        export_html(fig, Path(DATA_PATH_PLOTS, \"{}.html\".format(materie[i])))\n",
    "    else:\n",
    "        minore=lista_df[i][lista_df[i][\"livello_3\"].eq(lista_df[i][\"livello_3\"].min())][\"nome_provincia\"]\n",
    "        maggiore=lista_df[i][lista_df[i][\"livello_3\"].eq(lista_df[i][\"livello_3\"].max())][\"nome_provincia\"]\n",
    "        fig = px.choropleth_mapbox(\n",
    "            data_frame=lista_df[i],\n",
    "            geojson=province_geojson,\n",
    "            locations='sigla_provincia',\n",
    "            color=\"livello_3\",\n",
    "            color_continuous_scale=\"rdbu\",\n",
    "            range_color=(lista_df[i][\"livello_3\"].min(), lista_df[i][\"livello_3\"].max()),\n",
    "            #hover_data=['tot_sezioni', 'sezioni_corso', 'moda_volume', 'moda_editore'],\n",
    "            mapbox_style=\"carto-positron\",\n",
    "            zoom=4, \n",
    "            center={\"lat\": 41.9, \"lon\": 12.0},\n",
    "            opacity=0.5,\n",
    "            title=\"Percentuali studenti livello B2  prove Invalsi Inglese 5°Liceo 2021:<br><sup>La regione più performante del 2021 è stata {}</sup><br><sup>La regione meno performante del 2021 è stata {}</sup>\".format(maggiore.values[0],minore.values[0]),\n",
    "            labels={'livello_3':'% Studenti B2'} \n",
    "        )\n",
    "        #fig.show()\n",
    "        export_html(fig, Path(DATA_PATH_PLOTS, \"inglese.html\"))"
   ]
  },
  {
   "cell_type": "code",
   "execution_count": 11,
   "id": "db7d20d1",
   "metadata": {},
   "outputs": [],
   "source": [
    "for i in range(len(lista_df)):\n",
    "    minore=lista_df[i][lista_df[i][\"perc_copertura_stu\"].eq(lista_df[i][\"perc_copertura_stu\"].min())][\"nome_provincia\"]\n",
    "    fig = px.choropleth_mapbox(\n",
    "        data_frame=lista_df[i],\n",
    "        geojson=province_geojson,\n",
    "        locations='sigla_provincia',\n",
    "        color=\"perc_copertura_stu\",\n",
    "        color_continuous_scale=\"rdbu\",\n",
    "        range_color=(lista_df[i][\"perc_copertura_stu\"].min(), lista_df[i][\"perc_copertura_stu\"].max()),\n",
    "        #hover_data=['tot_sezioni', 'sezioni_corso', 'moda_volume', 'moda_editore'],\n",
    "        mapbox_style=\"carto-positron\",\n",
    "        zoom=4, \n",
    "        center={\"lat\": 41.9, \"lon\": 12.0},\n",
    "        opacity=0.5,\n",
    "        title=\"Percentuali partecipazione studenti prove {} 5°Liceo 2021:<br><sup>Provincia con la minore partecipazione {}</sup>\".format(materie[i],minore.values[0]),\n",
    "        #title=\"Percentuali partecipazione studenti prove {} 5°Liceo 2021\".format(materie[i]),\n",
    "        labels={'perc_copertura_stu':'% copertura'}\n",
    "    )\n",
    "    #fig.show()\n",
    "    export_html(fig, Path(DATA_PATH_PLOTS, \"partecipazione_{}.html\".format(materie[i])))"
   ]
  },
  {
   "cell_type": "markdown",
   "id": "6292e059",
   "metadata": {},
   "source": [
    "------------"
   ]
  },
  {
   "cell_type": "markdown",
   "id": "c038e7eb",
   "metadata": {},
   "source": [
    "Da quanto appare nei grafici così ottenuti, la distribuzione degli studenti *top* si concentra nel Nord Italia.\n",
    "Anche se abbiamo visualizzato solo quella porzione di studenti che riescono ad ottenere un punteggio superiore al 110% della media nazionale, studenti comunque preparatissimi nell'affrontare le prove *INVALSI*, sembra palese manifestarsi quel classico **divario Nord-Sud** che caratterizza il *Belpaese*!"
   ]
  }
 ],
 "metadata": {
  "kernelspec": {
   "display_name": "Python 3.10.6 64-bit",
   "language": "python",
   "name": "python3"
  },
  "language_info": {
   "codemirror_mode": {
    "name": "ipython",
    "version": 3
   },
   "file_extension": ".py",
   "mimetype": "text/x-python",
   "name": "python",
   "nbconvert_exporter": "python",
   "pygments_lexer": "ipython3",
   "version": "3.10.6"
  },
  "vscode": {
   "interpreter": {
    "hash": "916dbcbb3f70747c44a77c7bcd40155683ae19c65e1c03b4aa3499c5328201f1"
   }
  }
 },
 "nbformat": 4,
 "nbformat_minor": 5
}
