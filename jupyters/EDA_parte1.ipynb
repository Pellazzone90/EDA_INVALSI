{
 "cells": [
  {
   "cell_type": "markdown",
   "id": "6c4a45b5",
   "metadata": {},
   "source": [
    "# How much italians students are good across their country? \n",
    "## INVALSI: an example of Exploratory Data Analysis."
   ]
  },
  {
   "cell_type": "markdown",
   "id": "57797a2e",
   "metadata": {},
   "source": [
    "---"
   ]
  },
  {
   "cell_type": "markdown",
   "id": "c0813d6f",
   "metadata": {},
   "source": [
    "#### Introduzione:\n",
    "In questo notebook eseguiremo un'analisi dei dati messi a disposizione dal _Cineca_ sul servizio statistico _INVALSI_ (\"__Fonte: INVALSI - Servizio Statistico\"; \"Fonte: elaborazione su dati INVALSI - Servizio Statistico__\") reperibili al seguente [Link](https://invalsi-serviziostatistico.cineca.it/#provinciali).\n",
    "#### Contesto:\n",
    "Le prove _INVALSI_ sono test standardizzate che gli studenti italiani svolgono per individuare il loro livello di competenza e preparazione in diverse materie scolastiche su scala nazionale.\n",
    "#### Obiettivo: \n",
    "Lo scopo è quello di analizzare i dati per introdurre i principi fondamentali della _Exploratory Data Analysis_ ed arrivare ad ottenerne una rappresentazione visiva. Come tool di _Data Visualization_ useremo una _Choropleth Map_ (della libreria _Plotly_) per visualizzare la distribuzione, tra le province del territorio nazionale italiano, dell'abilità degli studenti di V liceo nel superare le prove che _INVALSI_ eroga annualmente."
   ]
  },
  {
   "cell_type": "markdown",
   "id": "e999c326",
   "metadata": {},
   "source": [
    "### Cosa si intende per Exploratory Data Analysis ?"
   ]
  },
  {
   "cell_type": "markdown",
   "id": "4061ea17",
   "metadata": {},
   "source": [
    "L'_EDA_, acronimo di _Exploratory Data Analysis_ è un processo analitico fondamentale, un'indagine iniziale che si effettua per riassumere, visualizzare e acquisire familiarità con le caratteristiche importanti di un set di dati. \n",
    "L'_EDA_ ci aiuta a identificare eventuali anomalie nel dataset, permettendoci di risolvere  o correggere la presenza di informazioni corrotte o  semplicemente rimuoverle laddove possibile.\n",
    "\n",
    "Più approfonditamente, l'analisi esplorativa dei dati ci offre l'opportunità di riconoscere e comprendere le relazioni ed i pattern che esistono tra le molteplici variabili coinvolte. \n",
    "Viene eseguita al fine di definire e perfezionare la selezione delle variabili che verranno utilizzate per applicare qualsiasi tipo di algoritmo.\n",
    "Ci permette dunque di guardare il problema da una prospettiva più ampia facilitandone la comprensione e favorendo spunti di analisi utili a garantire l'ottenimento di risultati ottimali per lo scopo del progetto.\n",
    "\n",
    "Tale comprensione può essere raggiunto solo dopo che i dati grezzi sono stati controllati e verificati, assicurando che il set di dati sia pronto per future analisi più tecniche.\n",
    "\n",
    "Volendo identificare l'analisi esplorativa nei passaggi principali di cui generalmente è costituita, possiamo suddividere il processo di _EDA_ nei seguenti steps:\n",
    " 1. Data Exploration & Preparation\n",
    " 2. Handling Missing Values & Outliers\n",
    " 3. Feature Engineering\n",
    " 4. Uni-Bi-Multy Variative Analysis\n",
    " 5. Data Visualization\n",
    "\n",
    "L'ordine delle fasi esplorative componenti non è da considerarsi rigoroso ma dipende dal tipo di progetto che ci ritroviamo ad affrontare.\n",
    "Al fine di questo progetto seguiremo esattamente questi 5 passi. \\\n",
    "Per motivi di scomodità nel gestire un unico notebook ottenuto svolgendoli tutti insieme in un'unico file, dedicheremo un notebook ad ogni passo.\n"
   ]
  },
  {
   "cell_type": "markdown",
   "id": "56c3d27f",
   "metadata": {},
   "source": [
    "--------------"
   ]
  },
  {
   "cell_type": "markdown",
   "id": "4fa7cd7a",
   "metadata": {},
   "source": [
    "# Parte 1"
   ]
  },
  {
   "cell_type": "markdown",
   "id": "30a45721",
   "metadata": {},
   "source": [
    "## 1- Data Exploration & Preparation:"
   ]
  },
  {
   "cell_type": "markdown",
   "id": "cc14cf9d",
   "metadata": {},
   "source": [
    "Abbiamo a disposizione 2 dataframe.\n",
    "\n",
    "Il dataframe __df\\_province__\n",
    "\n",
    "Il dataframe __df\\_punteggi__\n",
    "\n",
    "Per prima cosa andiamo a verificare la loro integrità chiedendoci:\n",
    "- In che formato sono caricati i dati? \n",
    "- Che tipo di valori contengono le loro features? (dati numerici o categorici)\n",
    "- I dati contenuti presentano valori nulli e o outliers?"
   ]
  },
  {
   "cell_type": "markdown",
   "id": "a32d032f",
   "metadata": {},
   "source": [
    "##### Import dei dati e delle librerie:"
   ]
  },
  {
   "cell_type": "code",
   "execution_count": 1,
   "id": "ed4b46b5",
   "metadata": {},
   "outputs": [],
   "source": [
    "from pathlib import Path\n",
    "import pandas as pd\n",
    "import plotly.express as px\n",
    "import pickle"
   ]
  },
  {
   "cell_type": "code",
   "execution_count": 2,
   "id": "97c9b1fc",
   "metadata": {},
   "outputs": [],
   "source": [
    "DATA_PATH = \"../data/in/\""
   ]
  },
  {
   "cell_type": "code",
   "execution_count": 3,
   "id": "52e2b338",
   "metadata": {},
   "outputs": [],
   "source": [
    "df_province = pd.read_csv(Path(DATA_PATH, \"Report_province_livelli.csv\"), sep=\";\")\n",
    "df_punteggi = pd.read_csv(Path(DATA_PATH, \"Matrice_medie_provinciali.csv\"), sep=\";\")"
   ]
  },
  {
   "cell_type": "markdown",
   "id": "f9fe4a0e",
   "metadata": {},
   "source": [
    "##### Ad una prima occhiata:\n",
    "Diamo uno sguardo generale ai 2 dataframe andando a visualizzare i primi 5 e gli ultimi 5 record rispettivamente:"
   ]
  },
  {
   "cell_type": "code",
   "execution_count": 4,
   "id": "71ff261d",
   "metadata": {},
   "outputs": [
    {
     "data": {
      "text/html": [
       "<div>\n",
       "<style scoped>\n",
       "    .dataframe tbody tr th:only-of-type {\n",
       "        vertical-align: middle;\n",
       "    }\n",
       "\n",
       "    .dataframe tbody tr th {\n",
       "        vertical-align: top;\n",
       "    }\n",
       "\n",
       "    .dataframe thead th {\n",
       "        text-align: right;\n",
       "    }\n",
       "</style>\n",
       "<table border=\"1\" class=\"dataframe\">\n",
       "  <thead>\n",
       "    <tr style=\"text-align: right;\">\n",
       "      <th></th>\n",
       "      <th>Codice_provincia</th>\n",
       "      <th>Sigla_provincia</th>\n",
       "      <th>Nome_provincia</th>\n",
       "      <th>Grado</th>\n",
       "      <th>Materia</th>\n",
       "      <th>Anno</th>\n",
       "      <th>LIVELLO_1</th>\n",
       "      <th>LIVELLO_2</th>\n",
       "      <th>LIVELLO_3</th>\n",
       "      <th>LIVELLO_4</th>\n",
       "      <th>LIVELLO_5</th>\n",
       "      <th>perc_copertura_stu</th>\n",
       "    </tr>\n",
       "  </thead>\n",
       "  <tbody>\n",
       "    <tr>\n",
       "      <th>0</th>\n",
       "      <td>1</td>\n",
       "      <td>TO</td>\n",
       "      <td>TORINO</td>\n",
       "      <td>8</td>\n",
       "      <td>Italiano</td>\n",
       "      <td>2017-18</td>\n",
       "      <td>10,07964287526</td>\n",
       "      <td>20,270887231776</td>\n",
       "      <td>31,1469588596358</td>\n",
       "      <td>24,0653375944808</td>\n",
       "      <td>14,4067366712322</td>\n",
       "      <td>97,2568947654053</td>\n",
       "    </tr>\n",
       "    <tr>\n",
       "      <th>1</th>\n",
       "      <td>1</td>\n",
       "      <td>TO</td>\n",
       "      <td>TORINO</td>\n",
       "      <td>10</td>\n",
       "      <td>Italiano</td>\n",
       "      <td>2017-18</td>\n",
       "      <td>8,74020494273659</td>\n",
       "      <td>19,8010849909584</td>\n",
       "      <td>32,2061482820977</td>\n",
       "      <td>27,7456298975286</td>\n",
       "      <td>11,1030741410488</td>\n",
       "      <td>93,5438398646744</td>\n",
       "    </tr>\n",
       "    <tr>\n",
       "      <th>2</th>\n",
       "      <td>1</td>\n",
       "      <td>TO</td>\n",
       "      <td>TORINO</td>\n",
       "      <td>8</td>\n",
       "      <td>Matematica</td>\n",
       "      <td>2017-18</td>\n",
       "      <td>13,3821063862216</td>\n",
       "      <td>21,5871564294061</td>\n",
       "      <td>25,6718996087995</td>\n",
       "      <td>20,6980643194635</td>\n",
       "      <td>18,6353706243967</td>\n",
       "      <td>97,1088854901574</td>\n",
       "    </tr>\n",
       "    <tr>\n",
       "      <th>3</th>\n",
       "      <td>1</td>\n",
       "      <td>TO</td>\n",
       "      <td>TORINO</td>\n",
       "      <td>10</td>\n",
       "      <td>Matematica</td>\n",
       "      <td>2017-18</td>\n",
       "      <td>12,8287675393306</td>\n",
       "      <td>22,1223349328798</td>\n",
       "      <td>23,294660754419</td>\n",
       "      <td>20,0145781449311</td>\n",
       "      <td>21,3691307781085</td>\n",
       "      <td>92,8277417535946</td>\n",
       "    </tr>\n",
       "    <tr>\n",
       "      <th>4</th>\n",
       "      <td>1</td>\n",
       "      <td>TO</td>\n",
       "      <td>TORINO</td>\n",
       "      <td>5</td>\n",
       "      <td>Inglese R</td>\n",
       "      <td>2017-18</td>\n",
       "      <td>4,7037539574853</td>\n",
       "      <td>95,2792853912257</td>\n",
       "      <td>999</td>\n",
       "      <td>999</td>\n",
       "      <td>999</td>\n",
       "      <td>90,4017172646427</td>\n",
       "    </tr>\n",
       "  </tbody>\n",
       "</table>\n",
       "</div>"
      ],
      "text/plain": [
       "   Codice_provincia Sigla_provincia Nome_provincia  Grado     Materia  \\\n",
       "0                 1              TO         TORINO      8    Italiano   \n",
       "1                 1              TO         TORINO     10    Italiano   \n",
       "2                 1              TO         TORINO      8  Matematica   \n",
       "3                 1              TO         TORINO     10  Matematica   \n",
       "4                 1              TO         TORINO      5   Inglese R   \n",
       "\n",
       "      Anno         LIVELLO_1         LIVELLO_2         LIVELLO_3  \\\n",
       "0  2017-18    10,07964287526   20,270887231776  31,1469588596358   \n",
       "1  2017-18  8,74020494273659  19,8010849909584  32,2061482820977   \n",
       "2  2017-18  13,3821063862216  21,5871564294061  25,6718996087995   \n",
       "3  2017-18  12,8287675393306  22,1223349328798   23,294660754419   \n",
       "4  2017-18   4,7037539574853  95,2792853912257               999   \n",
       "\n",
       "          LIVELLO_4         LIVELLO_5 perc_copertura_stu  \n",
       "0  24,0653375944808  14,4067366712322   97,2568947654053  \n",
       "1  27,7456298975286  11,1030741410488   93,5438398646744  \n",
       "2  20,6980643194635  18,6353706243967   97,1088854901574  \n",
       "3  20,0145781449311  21,3691307781085   92,8277417535946  \n",
       "4               999               999   90,4017172646427  "
      ]
     },
     "execution_count": 4,
     "metadata": {},
     "output_type": "execute_result"
    }
   ],
   "source": [
    "df_province.head()"
   ]
  },
  {
   "cell_type": "code",
   "execution_count": 5,
   "id": "e87058c1",
   "metadata": {},
   "outputs": [
    {
     "data": {
      "text/html": [
       "<div>\n",
       "<style scoped>\n",
       "    .dataframe tbody tr th:only-of-type {\n",
       "        vertical-align: middle;\n",
       "    }\n",
       "\n",
       "    .dataframe tbody tr th {\n",
       "        vertical-align: top;\n",
       "    }\n",
       "\n",
       "    .dataframe thead th {\n",
       "        text-align: right;\n",
       "    }\n",
       "</style>\n",
       "<table border=\"1\" class=\"dataframe\">\n",
       "  <thead>\n",
       "    <tr style=\"text-align: right;\">\n",
       "      <th></th>\n",
       "      <th>Codice_provincia</th>\n",
       "      <th>Sigla_provincia</th>\n",
       "      <th>Nome_provincia</th>\n",
       "      <th>Grado</th>\n",
       "      <th>Materia</th>\n",
       "      <th>Anno</th>\n",
       "      <th>LIVELLO_1</th>\n",
       "      <th>LIVELLO_2</th>\n",
       "      <th>LIVELLO_3</th>\n",
       "      <th>LIVELLO_4</th>\n",
       "      <th>LIVELLO_5</th>\n",
       "      <th>perc_copertura_stu</th>\n",
       "    </tr>\n",
       "  </thead>\n",
       "  <tbody>\n",
       "    <tr>\n",
       "      <th>4487</th>\n",
       "      <td>111</td>\n",
       "      <td>SU</td>\n",
       "      <td>SUD SARDEGNA</td>\n",
       "      <td>8</td>\n",
       "      <td>Inglese R</td>\n",
       "      <td>2021-22</td>\n",
       "      <td>7,54084625052367</td>\n",
       "      <td>26,6862170087977</td>\n",
       "      <td>65,7729367406787</td>\n",
       "      <td>999</td>\n",
       "      <td>999</td>\n",
       "      <td>93,3881064162754</td>\n",
       "    </tr>\n",
       "    <tr>\n",
       "      <th>4488</th>\n",
       "      <td>111</td>\n",
       "      <td>SU</td>\n",
       "      <td>SUD SARDEGNA</td>\n",
       "      <td>13</td>\n",
       "      <td>Inglese R</td>\n",
       "      <td>2021-22</td>\n",
       "      <td>27,6463262764633</td>\n",
       "      <td>38,293897882939</td>\n",
       "      <td>34,0597758405978</td>\n",
       "      <td>999</td>\n",
       "      <td>999</td>\n",
       "      <td>92,6716676283901</td>\n",
       "    </tr>\n",
       "    <tr>\n",
       "      <th>4489</th>\n",
       "      <td>111</td>\n",
       "      <td>SU</td>\n",
       "      <td>SUD SARDEGNA</td>\n",
       "      <td>5</td>\n",
       "      <td>Inglese L</td>\n",
       "      <td>2021-22</td>\n",
       "      <td>27,5661375661376</td>\n",
       "      <td>72,2222222222222</td>\n",
       "      <td>999</td>\n",
       "      <td>999</td>\n",
       "      <td>999</td>\n",
       "      <td>78,5209804736186</td>\n",
       "    </tr>\n",
       "    <tr>\n",
       "      <th>4490</th>\n",
       "      <td>111</td>\n",
       "      <td>SU</td>\n",
       "      <td>SUD SARDEGNA</td>\n",
       "      <td>8</td>\n",
       "      <td>Inglese L</td>\n",
       "      <td>2021-22</td>\n",
       "      <td>5,10764035457999</td>\n",
       "      <td>50,1055297593922</td>\n",
       "      <td>44,7868298860279</td>\n",
       "      <td>999</td>\n",
       "      <td>999</td>\n",
       "      <td>92,6838810641627</td>\n",
       "    </tr>\n",
       "    <tr>\n",
       "      <th>4491</th>\n",
       "      <td>111</td>\n",
       "      <td>SU</td>\n",
       "      <td>SUD SARDEGNA</td>\n",
       "      <td>13</td>\n",
       "      <td>Inglese L</td>\n",
       "      <td>2021-22</td>\n",
       "      <td>42,0199501246883</td>\n",
       "      <td>33,7905236907731</td>\n",
       "      <td>24,1895261845387</td>\n",
       "      <td>999</td>\n",
       "      <td>999</td>\n",
       "      <td>92,5562608193883</td>\n",
       "    </tr>\n",
       "  </tbody>\n",
       "</table>\n",
       "</div>"
      ],
      "text/plain": [
       "      Codice_provincia Sigla_provincia Nome_provincia  Grado    Materia  \\\n",
       "4487               111              SU   SUD SARDEGNA      8  Inglese R   \n",
       "4488               111              SU   SUD SARDEGNA     13  Inglese R   \n",
       "4489               111              SU   SUD SARDEGNA      5  Inglese L   \n",
       "4490               111              SU   SUD SARDEGNA      8  Inglese L   \n",
       "4491               111              SU   SUD SARDEGNA     13  Inglese L   \n",
       "\n",
       "         Anno         LIVELLO_1         LIVELLO_2         LIVELLO_3 LIVELLO_4  \\\n",
       "4487  2021-22  7,54084625052367  26,6862170087977  65,7729367406787       999   \n",
       "4488  2021-22  27,6463262764633   38,293897882939  34,0597758405978       999   \n",
       "4489  2021-22  27,5661375661376  72,2222222222222               999       999   \n",
       "4490  2021-22  5,10764035457999  50,1055297593922  44,7868298860279       999   \n",
       "4491  2021-22  42,0199501246883  33,7905236907731  24,1895261845387       999   \n",
       "\n",
       "     LIVELLO_5 perc_copertura_stu  \n",
       "4487       999   93,3881064162754  \n",
       "4488       999   92,6716676283901  \n",
       "4489       999   78,5209804736186  \n",
       "4490       999   92,6838810641627  \n",
       "4491       999   92,5562608193883  "
      ]
     },
     "execution_count": 5,
     "metadata": {},
     "output_type": "execute_result"
    }
   ],
   "source": [
    "df_province.tail()"
   ]
  },
  {
   "cell_type": "code",
   "execution_count": 6,
   "id": "421e5349",
   "metadata": {},
   "outputs": [
    {
     "data": {
      "text/html": [
       "<div>\n",
       "<style scoped>\n",
       "    .dataframe tbody tr th:only-of-type {\n",
       "        vertical-align: middle;\n",
       "    }\n",
       "\n",
       "    .dataframe tbody tr th {\n",
       "        vertical-align: top;\n",
       "    }\n",
       "\n",
       "    .dataframe thead th {\n",
       "        text-align: right;\n",
       "    }\n",
       "</style>\n",
       "<table border=\"1\" class=\"dataframe\">\n",
       "  <thead>\n",
       "    <tr style=\"text-align: right;\">\n",
       "      <th></th>\n",
       "      <th>Anno</th>\n",
       "      <th>Grado</th>\n",
       "      <th>Materia</th>\n",
       "      <th>Sigla_provincia</th>\n",
       "      <th>Nome_provincia</th>\n",
       "      <th>Codice_provincia</th>\n",
       "      <th>punteggio_medio</th>\n",
       "      <th>deviazione_standard</th>\n",
       "      <th>punteggio_medio_wle</th>\n",
       "      <th>deviazione_standard_wle</th>\n",
       "      <th>perc_copertura_stu</th>\n",
       "    </tr>\n",
       "  </thead>\n",
       "  <tbody>\n",
       "    <tr>\n",
       "      <th>0</th>\n",
       "      <td>2012-13</td>\n",
       "      <td>2</td>\n",
       "      <td>Italiano</td>\n",
       "      <td>AG</td>\n",
       "      <td>AGRIGENTO</td>\n",
       "      <td>84</td>\n",
       "      <td>59,3150073777354</td>\n",
       "      <td>18,190800414411</td>\n",
       "      <td>192,265162028523</td>\n",
       "      <td>51,8381871497441</td>\n",
       "      <td>90,9962938739917</td>\n",
       "    </tr>\n",
       "    <tr>\n",
       "      <th>1</th>\n",
       "      <td>2012-13</td>\n",
       "      <td>2</td>\n",
       "      <td>Italiano</td>\n",
       "      <td>AL</td>\n",
       "      <td>ALESSANDRIA</td>\n",
       "      <td>6</td>\n",
       "      <td>62,1044367131885</td>\n",
       "      <td>16,6958186913763</td>\n",
       "      <td>204,600039194695</td>\n",
       "      <td>39,7636111863349</td>\n",
       "      <td>90,5049894163895</td>\n",
       "    </tr>\n",
       "    <tr>\n",
       "      <th>2</th>\n",
       "      <td>2012-13</td>\n",
       "      <td>2</td>\n",
       "      <td>Italiano</td>\n",
       "      <td>AN</td>\n",
       "      <td>ANCONA</td>\n",
       "      <td>42</td>\n",
       "      <td>63,0460221804143</td>\n",
       "      <td>16,3077271476602</td>\n",
       "      <td>205,657189792302</td>\n",
       "      <td>39,4580594011765</td>\n",
       "      <td>91,5343915343915</td>\n",
       "    </tr>\n",
       "    <tr>\n",
       "      <th>3</th>\n",
       "      <td>2012-13</td>\n",
       "      <td>2</td>\n",
       "      <td>Italiano</td>\n",
       "      <td>AO</td>\n",
       "      <td>AOSTA</td>\n",
       "      <td>7</td>\n",
       "      <td>61,9107082669205</td>\n",
       "      <td>16,293049412049</td>\n",
       "      <td>205,257658801212</td>\n",
       "      <td>38,3702883848067</td>\n",
       "      <td>93,6967632027257</td>\n",
       "    </tr>\n",
       "    <tr>\n",
       "      <th>4</th>\n",
       "      <td>2012-13</td>\n",
       "      <td>2</td>\n",
       "      <td>Italiano</td>\n",
       "      <td>AP</td>\n",
       "      <td>ASCOLI PICENO</td>\n",
       "      <td>44</td>\n",
       "      <td>64,5349912345785</td>\n",
       "      <td>15,6314350316611</td>\n",
       "      <td>208,427316901486</td>\n",
       "      <td>38,3694825513285</td>\n",
       "      <td>92,4559471365639</td>\n",
       "    </tr>\n",
       "  </tbody>\n",
       "</table>\n",
       "</div>"
      ],
      "text/plain": [
       "      Anno  Grado   Materia Sigla_provincia Nome_provincia  Codice_provincia  \\\n",
       "0  2012-13      2  Italiano              AG      AGRIGENTO                84   \n",
       "1  2012-13      2  Italiano              AL    ALESSANDRIA                 6   \n",
       "2  2012-13      2  Italiano              AN         ANCONA                42   \n",
       "3  2012-13      2  Italiano              AO          AOSTA                 7   \n",
       "4  2012-13      2  Italiano              AP  ASCOLI PICENO                44   \n",
       "\n",
       "    punteggio_medio deviazione_standard punteggio_medio_wle  \\\n",
       "0  59,3150073777354     18,190800414411    192,265162028523   \n",
       "1  62,1044367131885    16,6958186913763    204,600039194695   \n",
       "2  63,0460221804143    16,3077271476602    205,657189792302   \n",
       "3  61,9107082669205     16,293049412049    205,257658801212   \n",
       "4  64,5349912345785    15,6314350316611    208,427316901486   \n",
       "\n",
       "  deviazione_standard_wle perc_copertura_stu  \n",
       "0        51,8381871497441   90,9962938739917  \n",
       "1        39,7636111863349   90,5049894163895  \n",
       "2        39,4580594011765   91,5343915343915  \n",
       "3        38,3702883848067   93,6967632027257  \n",
       "4        38,3694825513285   92,4559471365639  "
      ]
     },
     "execution_count": 6,
     "metadata": {},
     "output_type": "execute_result"
    }
   ],
   "source": [
    "df_punteggi.head()"
   ]
  },
  {
   "cell_type": "code",
   "execution_count": 7,
   "id": "3d2070e5",
   "metadata": {},
   "outputs": [
    {
     "data": {
      "text/html": [
       "<div>\n",
       "<style scoped>\n",
       "    .dataframe tbody tr th:only-of-type {\n",
       "        vertical-align: middle;\n",
       "    }\n",
       "\n",
       "    .dataframe tbody tr th {\n",
       "        vertical-align: top;\n",
       "    }\n",
       "\n",
       "    .dataframe thead th {\n",
       "        text-align: right;\n",
       "    }\n",
       "</style>\n",
       "<table border=\"1\" class=\"dataframe\">\n",
       "  <thead>\n",
       "    <tr style=\"text-align: right;\">\n",
       "      <th></th>\n",
       "      <th>Anno</th>\n",
       "      <th>Grado</th>\n",
       "      <th>Materia</th>\n",
       "      <th>Sigla_provincia</th>\n",
       "      <th>Nome_provincia</th>\n",
       "      <th>Codice_provincia</th>\n",
       "      <th>punteggio_medio</th>\n",
       "      <th>deviazione_standard</th>\n",
       "      <th>punteggio_medio_wle</th>\n",
       "      <th>deviazione_standard_wle</th>\n",
       "      <th>perc_copertura_stu</th>\n",
       "    </tr>\n",
       "  </thead>\n",
       "  <tbody>\n",
       "    <tr>\n",
       "      <th>10599</th>\n",
       "      <td>2021-22</td>\n",
       "      <td>13</td>\n",
       "      <td>Matematica</td>\n",
       "      <td>VE</td>\n",
       "      <td>VENEZIA</td>\n",
       "      <td>27</td>\n",
       "      <td>999</td>\n",
       "      <td>999</td>\n",
       "      <td>203,076139524746</td>\n",
       "      <td>36,2314648374361</td>\n",
       "      <td>96,8876177658143</td>\n",
       "    </tr>\n",
       "    <tr>\n",
       "      <th>10600</th>\n",
       "      <td>2021-22</td>\n",
       "      <td>13</td>\n",
       "      <td>Matematica</td>\n",
       "      <td>VI</td>\n",
       "      <td>VICENZA</td>\n",
       "      <td>24</td>\n",
       "      <td>999</td>\n",
       "      <td>999</td>\n",
       "      <td>208,436145311973</td>\n",
       "      <td>36,8646408596957</td>\n",
       "      <td>97,5194221071282</td>\n",
       "    </tr>\n",
       "    <tr>\n",
       "      <th>10601</th>\n",
       "      <td>2021-22</td>\n",
       "      <td>13</td>\n",
       "      <td>Matematica</td>\n",
       "      <td>VR</td>\n",
       "      <td>VERONA</td>\n",
       "      <td>23</td>\n",
       "      <td>999</td>\n",
       "      <td>999</td>\n",
       "      <td>204,651657367328</td>\n",
       "      <td>35,9214575788051</td>\n",
       "      <td>97,2817255133698</td>\n",
       "    </tr>\n",
       "    <tr>\n",
       "      <th>10602</th>\n",
       "      <td>2021-22</td>\n",
       "      <td>13</td>\n",
       "      <td>Matematica</td>\n",
       "      <td>VT</td>\n",
       "      <td>VITERBO</td>\n",
       "      <td>56</td>\n",
       "      <td>999</td>\n",
       "      <td>999</td>\n",
       "      <td>185,404910740602</td>\n",
       "      <td>35,737373025528</td>\n",
       "      <td>94,2907334211682</td>\n",
       "    </tr>\n",
       "    <tr>\n",
       "      <th>10603</th>\n",
       "      <td>2021-22</td>\n",
       "      <td>13</td>\n",
       "      <td>Matematica</td>\n",
       "      <td>VV</td>\n",
       "      <td>VIBO VALENTIA</td>\n",
       "      <td>102</td>\n",
       "      <td>999</td>\n",
       "      <td>999</td>\n",
       "      <td>173,804583060593</td>\n",
       "      <td>35,3694466500628</td>\n",
       "      <td>95,0407608695652</td>\n",
       "    </tr>\n",
       "  </tbody>\n",
       "</table>\n",
       "</div>"
      ],
      "text/plain": [
       "          Anno  Grado     Materia Sigla_provincia Nome_provincia  \\\n",
       "10599  2021-22     13  Matematica              VE        VENEZIA   \n",
       "10600  2021-22     13  Matematica              VI        VICENZA   \n",
       "10601  2021-22     13  Matematica              VR         VERONA   \n",
       "10602  2021-22     13  Matematica              VT        VITERBO   \n",
       "10603  2021-22     13  Matematica              VV  VIBO VALENTIA   \n",
       "\n",
       "       Codice_provincia punteggio_medio deviazione_standard  \\\n",
       "10599                27             999                 999   \n",
       "10600                24             999                 999   \n",
       "10601                23             999                 999   \n",
       "10602                56             999                 999   \n",
       "10603               102             999                 999   \n",
       "\n",
       "      punteggio_medio_wle deviazione_standard_wle perc_copertura_stu  \n",
       "10599    203,076139524746        36,2314648374361   96,8876177658143  \n",
       "10600    208,436145311973        36,8646408596957   97,5194221071282  \n",
       "10601    204,651657367328        35,9214575788051   97,2817255133698  \n",
       "10602    185,404910740602         35,737373025528   94,2907334211682  \n",
       "10603    173,804583060593        35,3694466500628   95,0407608695652  "
      ]
     },
     "execution_count": 7,
     "metadata": {},
     "output_type": "execute_result"
    }
   ],
   "source": [
    "df_punteggi.tail()"
   ]
  },
  {
   "cell_type": "markdown",
   "id": "19816446",
   "metadata": {},
   "source": [
    "##### Con quanti dati abbiamo a che fare?\n",
    "Andiamo a visualizzare le dimensioni dei dataframe"
   ]
  },
  {
   "cell_type": "code",
   "execution_count": 8,
   "id": "f3f8e1dd",
   "metadata": {},
   "outputs": [
    {
     "data": {
      "text/plain": [
       "(4492, 12)"
      ]
     },
     "execution_count": 8,
     "metadata": {},
     "output_type": "execute_result"
    }
   ],
   "source": [
    "df_province.shape"
   ]
  },
  {
   "cell_type": "code",
   "execution_count": 9,
   "id": "dd65e3db",
   "metadata": {},
   "outputs": [
    {
     "data": {
      "text/plain": [
       "(10604, 11)"
      ]
     },
     "execution_count": 9,
     "metadata": {},
     "output_type": "execute_result"
    }
   ],
   "source": [
    "df_punteggi.shape"
   ]
  },
  {
   "cell_type": "markdown",
   "id": "ba410ac1",
   "metadata": {},
   "source": [
    "Già da questi primi semplici passi notiamo non poche differenze, soprattutto nelle dimensioni dei due dataframe. \\\n",
    "Il **df_punteggi**  è quasi **2** volte più grande del **df_province** (in termini di numero di record).\n",
    "\n",
    "Vogliamo allora capire che informazioni sono contenute nei due set di dati e perchè sono così diversi. \\\n",
    "Proprio per questo, prima ancora di iniziare ad interagire con i dati stessi, studiamo i metadati che vengono affiancati ai due dataframe insieme alle loro\\\n",
    "__table-maps__ che qui ho riportato, così come vengono fornite, come tabelle markdown:"
   ]
  },
  {
   "cell_type": "markdown",
   "id": "feea152d",
   "metadata": {},
   "source": [
    "##### Table Map per \"df_province\":\n",
    "Nome Variabile|Descrizione|Valori\n",
    "--------|--------|-----\n",
    "Codice_provincia|Codice ISTAT della provincia|-\n",
    "Sigla_provincia|Sigla della provincia|- \n",
    "Nome_provincia|Nome della provincia|- \n",
    "GRADO|Grado scolastico| 5: V primaria. 8: III secondaria di I grado. 10: II secondardia di II grado. 13: V secondaria di II grado\n",
    "Materia|Materia oggetto della prova|Italiano - Matematica - Inglese lettura - Inglese ascolto\n",
    "Anno|Anno scolastico| Dal 2017-18 al 2021-22 (non è presente l'anno scolasti 2019-20 poichè non si sono svolte le prove)\n",
    "LIVELLO_1|Livelli di competenza|\"Per Italiano e matematica grado 8,10,13 equivale al livello di competenza 1, Inglese grado 5,8 equivale al \"\"Livello Pre-A1, \"Non raggiunge il livello B1 per il grado 13; 999=dato mancante\n",
    "LIVELLO_2|Livelli di competenza|per Inglese grado 5 e 8 equivale al \"\"Livello A1\"\"; \"\"Livello B1\"\" per il grado 13; 999= dato mancante\"\n",
    "LIVELLO_3|Livelli di competenza|Livelli di competenza;\"Per Italiano e Matematica grado 8, 10 e 13 equivale al livello di competenza 3, per Inglese grado 8 equivale al \"\"Livello A2\"\"; \"\"Livello B2\"\" per il grado 13; 999= dato mancante\"\n",
    "LIVELLO_4|Livelli di competenza|Livelli di competenza;\"Per Italiano e Matematica grado 8, 10 e 13 equivale al livello di competenza 4; 999= dato mancante\"\n",
    "LIVELLO_5|LIvelli di competenza|Livelli di competenza;\"Per Italiano e Matematica grado 8, 10 e 13 equivale al livello di competenza 5; 999= dato mancante\"\n",
    "perc_copertura_stu|Percentuale di partecipazione alle prove|"
   ]
  },
  {
   "cell_type": "markdown",
   "id": "11ee17f0",
   "metadata": {},
   "source": [
    "##### Table Map per \"df_punteggi\":\n",
    "Nome Variabile|Descrizione|Valori\n",
    "--------|--------|-----\n",
    "Anno|Anno scolastico| Dal 2012-13 al 2021-22 \n",
    "GRADO|Grado scolastico| 2: II primaria, 5: V primaria. 8: III secondaria di I grado. 10: II secondardia di II grado. 13: V secondaria di II grado\n",
    "Materia|Materia oggetto della prova|Italiano - Matematica - Inglese lettura - Inglese ascolto\n",
    "Sigla_provincia|Sigla della provincia|-\n",
    "Nome_provincia|Nome della provincia|- \n",
    "Codice_provincia|Codice ISTAT della provincia|- \n",
    "Punteggio percentuale medio|Punteggio percentuale medio - corretto per il cheating NB: dal 2017-18, questo dato non è più calcolato per i gradi 8, 10, 13|-\n",
    "Dev. Std. Punteggio percentuale|\"Deviazione standard del punteggio percentuale medio NB: dal 2017-18, questo dato non è più calcolato per i gradi 8, 10, 13|-\n",
    "Punteggio wle medio|Punteggio WLE medio (stima delle abilità secondo il modello di Rasch) su scala nazionale corretto per il cheating|-\n",
    "Dev. Std. Punteggio wle|Deviazione standard del punteggio WLE medio|-\n",
    "Perc. Partecipazione|Percentuale di partecipazione alla prova corrispondente (alunni che hanno sostenuto la prova su alunni attesi)|-"
   ]
  },
  {
   "cell_type": "markdown",
   "id": "7a9f4161",
   "metadata": {},
   "source": [
    "##### Con cosa abbiamo a che fare?\n",
    "Osservando i datasets ed interpretando le rispettive **table-maps** ci rendiamo subito conto che dobbiamo puntare il focus su 2 valori in particolare: le colonne **LIVELLO_n** e la colonna **Punteggio WLE medio**.\n",
    "Nel primo caso, per il dataset **df_province**, i valori numerici presenti nelle colonne **LIVELLO_n**, con **n** da 1 a 5, rappresentano la percentuale di studenti che superano le prove *INVALSI* in una data provincia, per un dato anno, per una data materia e per un dato grado scolastico.\n",
    "##### Come vanno interpretate queste percentuali?\n",
    "Dalle diapositive disponibili al seguente [Link](https://www.invalsi.it/invalsi/doc_eventi/12-2014/4/P_Falzetti.pdf)\n",
    "apprendiamo che:\n",
    "\n",
    "*Sulla base della distribuzione dei punteggi su scala nazionale, l'INVALSI ha costruito i 5 livelli di apprendimento con le seguenti logiche:*\n",
    "- *Livello 1 e 2: punteggio maggiore del 95% della media nazionale*\n",
    "- *Livello 3: punteggio maggiore del 95% e minore o uguale al 110% della media nazionale*\n",
    "- *Livello 4-5: punteggio maggiore del 110% della media nazionale*\n",
    "\n",
    "Per cui interpretiamo i valori elencati nel dataset come le percentuali di studenti che, nel superare le prove, rientrano in una delle 3 fasce di punteggio in questo modo descritte.\n",
    "##### Cosa rappresenta il valore \"Punteggio WLE medio\" ?\n",
    "La colonna **Punteggio WLE medio** esprime il punteggio ottenuto dagli studenti secondo il modello di *Rasch*.\n",
    "Spiegare nel dettaglio il modello statistico in oggetto esula da questa analsi.\n",
    "Per interpretarlo correttamente abbiamo preso come riferimento le considerazioni avanzate in queste [slide](https://www.invalsi.it/invalsi/doc_eventi/12-2014/4/G_Giampaglia.pdf)\\\n",
    "In maniera generale possiamo dire che il modello statistico di Rasch viene utilizzato per stimare la preparazione di uno studente nell'affrontare un test in funzione della difficoltà di quest'ultimo.\\\n",
    "L'*INVALSI* utilizza una scala che pone il valore medio nazionale pari a 200.\n",
    "Non abbiamo informazioni concrete sul come sia stato calcolato questo punteggio ma possiamo provare a confermarne l'interpretazione con l'analisi che svolgeremo. "
   ]
  },
  {
   "cell_type": "markdown",
   "id": "977a9a4d",
   "metadata": {},
   "source": [
    "___________"
   ]
  },
  {
   "cell_type": "markdown",
   "id": "df53c66c",
   "metadata": {},
   "source": [
    "##### Cosa mi raccontano le colonne? \n",
    "Andiamo ad analizzare sommariamente i dati contenuti nelle singole colonne di interesse:"
   ]
  },
  {
   "cell_type": "code",
   "execution_count": 10,
   "id": "157263a0",
   "metadata": {},
   "outputs": [
    {
     "data": {
      "text/plain": [
       "8     1712\n",
       "13    1284\n",
       "5      854\n",
       "10     642\n",
       "Name: Grado, dtype: int64"
      ]
     },
     "execution_count": 10,
     "metadata": {},
     "output_type": "execute_result"
    }
   ],
   "source": [
    "df_province[\"Grado\"].value_counts()"
   ]
  },
  {
   "cell_type": "markdown",
   "id": "82a92bad",
   "metadata": {},
   "source": [
    "Come abbiamo appreso dalla **table_map** i gradi rappresentano gli anni scolastici tra scuola primaria e secondaria in cui si svolgono le prove *INVALSI*. Essi sono così definiti:\n",
    "- Grado 5:  V primaria (quinto anno della scuola elementare);\n",
    "- Grado 8: III secondaria di primo grado (terzo anno della scuola media);\n",
    "- Grado 10: II secondaria di secondo grado (secondo anno della scuola superiore);\n",
    "- Grado 13: V secondaria di secondo grado (quinto anno della scuola superiore);\n",
    "\n",
    "Al fine dell'analisi ci concentreremo solo sugli anni relativi alla scuola secondaria di secondo grado, *AKA* ai licei, per cui selezioneremo solo i record associati ai valori dell'attributo **GRADO** pari a 10 e 13"
   ]
  },
  {
   "cell_type": "code",
   "execution_count": 11,
   "id": "e2562f14",
   "metadata": {},
   "outputs": [
    {
     "data": {
      "text/plain": [
       "count                 4492\n",
       "unique                4476\n",
       "top       12,3595505617978\n",
       "freq                     3\n",
       "Name: LIVELLO_1, dtype: object"
      ]
     },
     "execution_count": 11,
     "metadata": {},
     "output_type": "execute_result"
    }
   ],
   "source": [
    "df_province[\"LIVELLO_1\"].describe()"
   ]
  },
  {
   "cell_type": "markdown",
   "id": "cd50d319",
   "metadata": {},
   "source": [
    "La colonna **LIVELLO_1** (le stesse conclusioni seguenti si applicano anche alle altre colonne **LIVELLO_n**) sono lette come **dtype=object**. I valori in esse contenute sono quindi delle stringhe ma che rappresentano una grandezza quantitativa. \n",
    "Questo formato di dato va corretto, possiamo leggere i dati nella loro vera \"natura\" utilizzato il parametro di **dtype=\"float\"** all'interno della funzione **pandas read_csv()** per specificarla."
   ]
  },
  {
   "cell_type": "markdown",
   "id": "9a701e9d",
   "metadata": {},
   "source": [
    "##### Il dataframe copre tutte le province italiane?"
   ]
  },
  {
   "cell_type": "code",
   "execution_count": 12,
   "id": "dd735e82",
   "metadata": {},
   "outputs": [
    {
     "data": {
      "text/plain": [
       "106"
      ]
     },
     "execution_count": 12,
     "metadata": {},
     "output_type": "execute_result"
    }
   ],
   "source": [
    "len(df_province[\"Sigla_provincia\"].value_counts())"
   ]
  },
  {
   "cell_type": "markdown",
   "id": "adb93101",
   "metadata": {},
   "source": [
    "Abbiamo 106 valori univoci per sigla provincia, ma sappiamo che in Italia ci sono 107 province, cosa non torna?"
   ]
  },
  {
   "cell_type": "code",
   "execution_count": 13,
   "id": "db58c2b4",
   "metadata": {},
   "outputs": [
    {
     "data": {
      "text/plain": [
       "107"
      ]
     },
     "execution_count": 13,
     "metadata": {},
     "output_type": "execute_result"
    }
   ],
   "source": [
    "len(df_province[\"Nome_provincia\"].value_counts())"
   ]
  },
  {
   "cell_type": "markdown",
   "id": "452d1b86",
   "metadata": {},
   "source": [
    "I valori univoci della colonna **Nome_provincia** sono correttamente 107.\\\n",
    "Deve esserci allora una \"sigla provincia\" che non viene riconosciuta:"
   ]
  },
  {
   "cell_type": "code",
   "execution_count": 14,
   "id": "76d6f502",
   "metadata": {},
   "outputs": [
    {
     "data": {
      "text/html": [
       "<div>\n",
       "<style scoped>\n",
       "    .dataframe tbody tr th:only-of-type {\n",
       "        vertical-align: middle;\n",
       "    }\n",
       "\n",
       "    .dataframe tbody tr th {\n",
       "        vertical-align: top;\n",
       "    }\n",
       "\n",
       "    .dataframe thead th {\n",
       "        text-align: right;\n",
       "    }\n",
       "</style>\n",
       "<table border=\"1\" class=\"dataframe\">\n",
       "  <thead>\n",
       "    <tr style=\"text-align: right;\">\n",
       "      <th></th>\n",
       "      <th>Codice_provincia</th>\n",
       "      <th>Sigla_provincia</th>\n",
       "      <th>Nome_provincia</th>\n",
       "      <th>Grado</th>\n",
       "      <th>Materia</th>\n",
       "      <th>Anno</th>\n",
       "      <th>LIVELLO_1</th>\n",
       "      <th>LIVELLO_2</th>\n",
       "      <th>LIVELLO_3</th>\n",
       "      <th>LIVELLO_4</th>\n",
       "      <th>LIVELLO_5</th>\n",
       "      <th>perc_copertura_stu</th>\n",
       "    </tr>\n",
       "  </thead>\n",
       "  <tbody>\n",
       "    <tr>\n",
       "      <th>2602</th>\n",
       "      <td>63</td>\n",
       "      <td>NaN</td>\n",
       "      <td>NAPOLI</td>\n",
       "      <td>8</td>\n",
       "      <td>Italiano</td>\n",
       "      <td>2017-18</td>\n",
       "      <td>20,3899018232819</td>\n",
       "      <td>27,2005610098177</td>\n",
       "      <td>28,6760168302945</td>\n",
       "      <td>16,6311360448808</td>\n",
       "      <td>7,07994389901823</td>\n",
       "      <td>96,0579850726161</td>\n",
       "    </tr>\n",
       "    <tr>\n",
       "      <th>2603</th>\n",
       "      <td>63</td>\n",
       "      <td>NaN</td>\n",
       "      <td>NAPOLI</td>\n",
       "      <td>10</td>\n",
       "      <td>Italiano</td>\n",
       "      <td>2017-18</td>\n",
       "      <td>18,1011232119081</td>\n",
       "      <td>27,3872520569458</td>\n",
       "      <td>30,5827728653853</td>\n",
       "      <td>17,7665494520501</td>\n",
       "      <td>5,61605954047318</td>\n",
       "      <td>88,1276890212715</td>\n",
       "    </tr>\n",
       "    <tr>\n",
       "      <th>2604</th>\n",
       "      <td>63</td>\n",
       "      <td>NaN</td>\n",
       "      <td>NAPOLI</td>\n",
       "      <td>8</td>\n",
       "      <td>Matematica</td>\n",
       "      <td>2017-18</td>\n",
       "      <td>29,1650278136765</td>\n",
       "      <td>27,9063887171995</td>\n",
       "      <td>23,1078271618812</td>\n",
       "      <td>12,3784907568691</td>\n",
       "      <td>7,36921953138169</td>\n",
       "      <td>95,9070945490798</td>\n",
       "    </tr>\n",
       "    <tr>\n",
       "      <th>2605</th>\n",
       "      <td>63</td>\n",
       "      <td>NaN</td>\n",
       "      <td>NAPOLI</td>\n",
       "      <td>10</td>\n",
       "      <td>Matematica</td>\n",
       "      <td>2017-18</td>\n",
       "      <td>29,3553856267949</td>\n",
       "      <td>29,0335974533753</td>\n",
       "      <td>19,9750873672191</td>\n",
       "      <td>12,1760492716515</td>\n",
       "      <td>8,90626621916197</td>\n",
       "      <td>87,1220570946251</td>\n",
       "    </tr>\n",
       "    <tr>\n",
       "      <th>2606</th>\n",
       "      <td>63</td>\n",
       "      <td>NaN</td>\n",
       "      <td>NAPOLI</td>\n",
       "      <td>5</td>\n",
       "      <td>Inglese R</td>\n",
       "      <td>2017-18</td>\n",
       "      <td>18,3237710262094</td>\n",
       "      <td>81,6534098317903</td>\n",
       "      <td>999</td>\n",
       "      <td>999</td>\n",
       "      <td>999</td>\n",
       "      <td>88,4799538505913</td>\n",
       "    </tr>\n",
       "  </tbody>\n",
       "</table>\n",
       "</div>"
      ],
      "text/plain": [
       "      Codice_provincia Sigla_provincia Nome_provincia  Grado     Materia  \\\n",
       "2602                63             NaN         NAPOLI      8    Italiano   \n",
       "2603                63             NaN         NAPOLI     10    Italiano   \n",
       "2604                63             NaN         NAPOLI      8  Matematica   \n",
       "2605                63             NaN         NAPOLI     10  Matematica   \n",
       "2606                63             NaN         NAPOLI      5   Inglese R   \n",
       "\n",
       "         Anno         LIVELLO_1         LIVELLO_2         LIVELLO_3  \\\n",
       "2602  2017-18  20,3899018232819  27,2005610098177  28,6760168302945   \n",
       "2603  2017-18  18,1011232119081  27,3872520569458  30,5827728653853   \n",
       "2604  2017-18  29,1650278136765  27,9063887171995  23,1078271618812   \n",
       "2605  2017-18  29,3553856267949  29,0335974533753  19,9750873672191   \n",
       "2606  2017-18  18,3237710262094  81,6534098317903               999   \n",
       "\n",
       "             LIVELLO_4         LIVELLO_5 perc_copertura_stu  \n",
       "2602  16,6311360448808  7,07994389901823   96,0579850726161  \n",
       "2603  17,7665494520501  5,61605954047318   88,1276890212715  \n",
       "2604  12,3784907568691  7,36921953138169   95,9070945490798  \n",
       "2605  12,1760492716515  8,90626621916197   87,1220570946251  \n",
       "2606               999               999   88,4799538505913  "
      ]
     },
     "execution_count": 14,
     "metadata": {},
     "output_type": "execute_result"
    }
   ],
   "source": [
    "df_province[df_province[\"Sigla_provincia\"].isnull()].head()"
   ]
  },
  {
   "cell_type": "markdown",
   "id": "042efa47",
   "metadata": {},
   "source": [
    "La sigla provincia \"NA\" che rappresenta la città di \"NAPOLI\" viene interpretata come un valore nullo, per questo ritroviamo la sigla codificata con \"NaN\". \n",
    "Anche questa lettura del dato va corretta. Come prima andiamo a specificare la codifica dei valori nulli, in fase di lettura del dato, tramite il parametro **na_values** all'interno della funzione **pandas read_csv()**."
   ]
  },
  {
   "cell_type": "markdown",
   "id": "af836ecf",
   "metadata": {},
   "source": [
    "##### Quali intervalli di anni coprono i dataframe?"
   ]
  },
  {
   "cell_type": "code",
   "execution_count": 15,
   "id": "2231aac8",
   "metadata": {},
   "outputs": [
    {
     "data": {
      "text/plain": [
       "array(['2017-18', '2018-19', '2020-21', '2021-22'], dtype=object)"
      ]
     },
     "execution_count": 15,
     "metadata": {},
     "output_type": "execute_result"
    }
   ],
   "source": [
    "df_province[\"Anno\"].unique()"
   ]
  },
  {
   "cell_type": "code",
   "execution_count": 16,
   "id": "b9e46b38",
   "metadata": {},
   "outputs": [
    {
     "data": {
      "text/plain": [
       "array(['2012-13', '2013-14', '2014-15', '2015-16', '2016-17', '2017-18',\n",
       "       '2018-19', '2020-21', '2021-22'], dtype=object)"
      ]
     },
     "execution_count": 16,
     "metadata": {},
     "output_type": "execute_result"
    }
   ],
   "source": [
    "df_punteggi[\"Anno\"].unique()"
   ]
  },
  {
   "cell_type": "markdown",
   "id": "09c78ea8",
   "metadata": {},
   "source": [
    "Innanzitutto notiamo che per entrambi i dataframe manca l'anno \"2019-2020\" ma la sua assenza è corretta in quanto le prove *INVALSI* non si sono tenute per quell'anno specifico.\n",
    "Il dataframe **df_punteggi**, però, copre una finestra di anni molto più ampia.\n",
    "Nel proseguo dell'analisi ci limiteremo ai soli anni in comune con il **df_province**."
   ]
  }
 ],
 "metadata": {
  "kernelspec": {
   "display_name": "Python 3 (ipykernel)",
   "language": "python",
   "name": "python3"
  },
  "language_info": {
   "codemirror_mode": {
    "name": "ipython",
    "version": 3
   },
   "file_extension": ".py",
   "mimetype": "text/x-python",
   "name": "python",
   "nbconvert_exporter": "python",
   "pygments_lexer": "ipython3",
   "version": "3.10.4"
  }
 },
 "nbformat": 4,
 "nbformat_minor": 5
}
